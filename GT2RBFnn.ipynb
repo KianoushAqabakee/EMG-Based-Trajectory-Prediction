{
 "cells": [
  {
   "cell_type": "markdown",
   "metadata": {},
   "source": [
    "<img src=\"Images/GT2RBFnn.png\">"
   ]
  },
  {
   "cell_type": "code",
   "execution_count": null,
   "metadata": {},
   "outputs": [],
   "source": [
    "import numpy as np\n",
    "import matplotlib.pyplot as plt\n",
    "import torch\n",
    "import torch.nn as nn\n",
    "from torch.utils.data import Dataset, DataLoader\n",
    "\n",
    "from tqdm import trange\n",
    "from kmeans_pytorch import kmeans\n",
    "device = 'cuda:0'#'cpu'#\n",
    "from tensorboardX import SummaryWriter\n",
    "import torch.nn.functional as F\n",
    "\n",
    "# import matplotlib\n",
    "# matplotlib.use(\"TkAgg\")\n",
    "import matplotlib.pyplot as plt\n",
    "\n"
   ]
  },
  {
   "cell_type": "code",
   "execution_count": null,
   "metadata": {},
   "outputs": [],
   "source": [
    "class MyDataset(Dataset):\n",
    "    \n",
    "    def __init__(self, x, y):\n",
    "        self.x = x\n",
    "        self.y = y\n",
    "    \n",
    "    def __len__(self):\n",
    "        return self.x.size(0)\n",
    "    \n",
    "    def __getitem__(self, idx):\n",
    "        x = self.x[idx]\n",
    "        y = self.y[idx]\n",
    "        return (x.type(torch.double), y.type(torch.double))\n",
    "    \n",
    "\n",
    "def error(a,b):\n",
    "    return (0.5*torch.mean((a-b)**2))"
   ]
  },
  {
   "cell_type": "code",
   "execution_count": 29,
   "metadata": {},
   "outputs": [],
   "source": [
    "from GT2RBFnn import GT2RBFnn"
   ]
  },
  {
   "cell_type": "code",
   "execution_count": null,
   "metadata": {},
   "outputs": [],
   "source": [
    "# import numpy as np\n",
    "# t = np.linspace(0, 2*np.pi, 100)\n",
    "# x = np.array([np.sin(t)**2, np.cos(t)**3, np.sin(-t)**3]).T\n",
    "# y = np.array([np.sin(-t), np.cos(t)**7]).T\n",
    "\n",
    "# X_train = torch.tensor(x).to(torch.double).to(device)\n",
    "# Y_train = torch.tensor(y).to(torch.double).to(device)\n",
    "\n",
    "# X_test = X_train\n",
    "# Y_test = Y_train\n",
    "\n",
    "# model = GT2RBFnn(x.shape[1], 7, y.shape[1], 5).to(torch.double).to(device) #5,7,11\n",
    "# model.Train(X_train, Y_train, Epochs = 90, batch_size=32, init_flag = True, lr = 0.01)\n",
    "# y_hat = model.forward(X_train)\n",
    "\n",
    "# plt.subplot(2,1,1)\n",
    "# plt.plot(t, y[:,0])\n",
    "# plt.plot(t, y_hat[:,0].cpu())\n",
    "# plt.subplot(2,1,2)\n",
    "# plt.plot(t, y[:,1])\n",
    "# plt.plot(t, y_hat[:,1].cpu())\n",
    "# # plt.show()"
   ]
  },
  {
   "cell_type": "code",
   "execution_count": null,
   "metadata": {},
   "outputs": [],
   "source": [
    "import scipy.io as sc\n",
    "import mat73\n",
    "# '''\n",
    "device2 = 'cpu'\n",
    "\n",
    "temp1 = mat73.loadmat('X_all_30.mat')\n",
    "temp2 = mat73.loadmat('Y_all_30.mat')\n",
    "\n",
    "X_train = torch.tensor(temp1['X']['train'].T).to(torch.double).to(device2)\n",
    "Y_train = torch.tensor(temp2['Y']['train'].T).to(torch.double).to(device2)\n",
    "X_test = torch.tensor(temp1['X']['test'].T).to(torch.double).to(device2)\n",
    "Y_test = torch.tensor(temp2['Y']['test'].T).to(torch.double).to(device2)\n",
    "\n",
    "# temp1 = sc.loadmat('X.mat')\n",
    "# temp2 = sc.loadmat('Y.mat')\n",
    "# X_train = torch.tensor(temp1['X']['train'][0][0].T).to(torch.double).to(device)\n",
    "# Y_train = torch.tensor(temp2['Y']['train'][0][0].T).to(torch.double).to(device)\n",
    "# X_test = torch.tensor(temp1['X']['test'][0][0].T).to(torch.double).to(device)\n",
    "# Y_test = torch.tensor(temp2['Y']['test'][0][0].T).to(torch.double).to(device)\n",
    "del temp1\n",
    "del temp2\n"
   ]
  },
  {
   "cell_type": "code",
   "execution_count": null,
   "metadata": {},
   "outputs": [],
   "source": [
    "rem_ind = []\n",
    "for i in range(X_train.shape[1]):\n",
    "    if X_train[:,i].mean().cpu().numpy()==0:\n",
    "        rem_ind.append(i)\n",
    "k = 0\n",
    "for i in rem_ind:\n",
    "    X_train = torch.cat((X_train[:,:i-k],X_train[:,i+1-k:]),1)\n",
    "    k+=1\n",
    "# rem_ind = []\n",
    "# for i in range(X_test.shape[1]):\n",
    "#     if X_test[:,i].mean().cpu().numpy()==0:\n",
    "#         rem_ind.append(i)\n",
    "k = 0\n",
    "for i in rem_ind:\n",
    "    X_test = torch.cat((X_test[:,:i-k],X_test[:,i+1-k:]),1)\n",
    "    k+=1\n",
    "\n",
    "\n",
    "# rem_ind = [4, 18, 32, 46, 60, 74, 88, 102]\n",
    "# k = 0\n",
    "# for i in rem_ind:\n",
    "#     X_train = torch.cat((X_train[:,:i-k],X_train[:,i+1-k:]),1)\n",
    "#     k+=1\n",
    "# k = 0\n",
    "# for i in rem_ind:\n",
    "#     X_test = torch.cat((X_test[:,:i-k],X_test[:,i+1-k:]),1)\n",
    "#     k+=1\n",
    "\n",
    "MEAN = torch.mean(X_train, dim = 0)\n",
    "STD = torch.std(X_train, dim = 0)\n",
    "X_train = (X_train-MEAN)/STD\n",
    "X_test = (X_test-MEAN)/STD"
   ]
  },
  {
   "cell_type": "code",
   "execution_count": null,
   "metadata": {},
   "outputs": [],
   "source": [
    "X_train = torch.nan_to_num(X_train, nan=.0, posinf=100, neginf=-100)\n",
    "Y_test = torch.nan_to_num(Y_test, nan=.0, posinf=100, neginf=-100)\n",
    "Y_train = torch.nan_to_num(Y_train, nan=.0, posinf=100, neginf=-100)\n",
    "X_test = torch.nan_to_num(X_test, nan=.0, posinf=100, neginf=-100)"
   ]
  },
  {
   "cell_type": "code",
   "execution_count": null,
   "metadata": {},
   "outputs": [],
   "source": [
    "# Y_train2 = torch.zeros(Y_train.shape).to(torch.double).to(device)\n",
    "# Y_train2[1:]=Y_train[0:-1]\n",
    "# Y_test2 = torch.zeros(Y_test.shape).to(torch.double).to(device)\n",
    "# Y_test2[1:]=Y_test[0:-1]"
   ]
  },
  {
   "cell_type": "code",
   "execution_count": null,
   "metadata": {},
   "outputs": [],
   "source": [
    "# X_train = torch.concat((X_train, Y_train2),1)\n",
    "# X_test = torch.concat((X_test, Y_test2),1)"
   ]
  },
  {
   "cell_type": "code",
   "execution_count": null,
   "metadata": {},
   "outputs": [],
   "source": [
    "# X_train=X_train[0:144006]\n",
    "# Y_train=Y_train[0:144006]\n",
    "# X_test=X_test[0:int(144006/5)]\n",
    "# Y_test=Y_test[0:int(144006/5)]"
   ]
  },
  {
   "cell_type": "code",
   "execution_count": null,
   "metadata": {},
   "outputs": [],
   "source": [
    "# X_train = X_train[25000:]\n",
    "# Y_train = Y_train[25000:]\n",
    "# X_test = X_test[6000:]\n",
    "# Y_test = Y_test[6000:]\n",
    "\n",
    "# model = GT2RBFnn(input_size=X_train.shape[1], mf_num=22, ouput_size=Y_train.shape[1], alpha_slice_num=7).to(device)\n",
    "model = GT2RBFnn(input_size=X_train.shape[1], mf_num=20, ouput_size=Y_train.shape[1], alpha_slice_num = 8).to(device)\n",
    "\n",
    "# model_parameters = [model.sigma, model.delta_sig, model.mu] #model.sigma, model.delta_sig, , self.weights # , self.mu\n",
    "# model.optimizer = AdamOptimizer(model_parameters, learning_rate=0.0002, beta1=0.5, beta2=0.7, epsilon=1e-8)\n",
    "\n",
    "model.Train(X_train[0:14400], Y_train[0:14400], 1, 32, init_flag = 1, lr=0.02)#, 100  #128*13  #, lr_dec_step = 3 , lr = 0.0001\n"
   ]
  },
  {
   "cell_type": "code",
   "execution_count": null,
   "metadata": {},
   "outputs": [],
   "source": [
    "model.Train(X_train, Y_train, 5, 32, init_flag = 0, lr=0.02)#, 100  #128*13  #, lr_dec_step = 3 , lr = 0.0001"
   ]
  },
  {
   "cell_type": "code",
   "execution_count": null,
   "metadata": {},
   "outputs": [],
   "source": [
    "model.Train(X_train, Y_train, 10, 256*4, init_flag = 0, lr=0.02)"
   ]
  },
  {
   "cell_type": "code",
   "execution_count": null,
   "metadata": {},
   "outputs": [],
   "source": [
    "# torch.save(model.sigma, 'GT2RBFnn_20_8_all_sigma.pth')\n",
    "# torch.save(model.delta_sig, 'GT2RBFnn_20_8_all_delta_sig.pth')\n",
    "# torch.save(model.weights, 'GT2RBFnn_20_8_all_weights.pth')\n",
    "# torch.save(model.mu, 'GT2RBFnn_20_8_all_mu.pth')"
   ]
  },
  {
   "cell_type": "code",
   "execution_count": 16,
   "metadata": {},
   "outputs": [],
   "source": [
    "from tqdm import tqdm"
   ]
  },
  {
   "cell_type": "code",
   "execution_count": 17,
   "metadata": {},
   "outputs": [],
   "source": [
    "shift = 20000"
   ]
  },
  {
   "cell_type": "code",
   "execution_count": null,
   "metadata": {},
   "outputs": [],
   "source": [
    "# model.sigma = torch.load('GT2RBFnn_20_8_all_sigma.pth')\n",
    "# model.mu = torch.load('GT2RBFnn_20_8_all_mu.pth')\n",
    "# model.delta_sig = torch.load('GT2RBFnn_20_8_all_delta_sig.pth')\n",
    "# model.weights = torch.load('GT2RBFnn_20_8_all_weights.pth')"
   ]
  },
  {
   "cell_type": "code",
   "execution_count": null,
   "metadata": {},
   "outputs": [],
   "source": [
    "# torch.save(model.sigma, './Models/NNARX/sigma5.pth')\n",
    "# torch.save(model.mu, './Models/NNARX/mu5.pth')\n",
    "# torch.save(model.weights, './Models/NNARX/weights5.pth')\n",
    "# torch.save(model.delta_sig, './Models/NNARX/delta_sig5.pth')\n",
    "# torch.save(model.bias, './Models/NNARX/bias5.pth')\n",
    "# torch.save(model.optimizer, './Models/NNARX/optimizer5.pth')\n",
    "# torch.save(model, './Models/NNARX/model5.pth')"
   ]
  },
  {
   "cell_type": "code",
   "execution_count": null,
   "metadata": {},
   "outputs": [],
   "source": [
    "shift = 50000"
   ]
  },
  {
   "cell_type": "code",
   "execution_count": null,
   "metadata": {},
   "outputs": [],
   "source": [
    "def error_rms(a,b):\n",
    "    return 0.5*np.sqrt(np.sum((a-b)**2)/a.size)\n",
    "def NRMSE(predicted_value,target_value):\n",
    "\tMSE=np.mean(np.power((predicted_value-target_value),2))\n",
    "\tRMSE=np.sqrt(MSE)\n",
    "\tP=target_value.shape[0]\n",
    "\tNRMSE=RMSE/np.sum((np.max(target_value,1)-np.min(target_value,1))/P)\n",
    "\treturn NRMSE\n",
    "\n",
    "\n",
    "# NRMSE(y_hat_train.cpu().numpy(), Y_train[0+shift:shift+10000].cpu().numpy()), NRMSE(y_hat_test.cpu().numpy(), Y_test[0+shift:shift+10000].cpu().numpy())"
   ]
  },
  {
   "cell_type": "code",
   "execution_count": null,
   "metadata": {},
   "outputs": [],
   "source": []
  },
  {
   "cell_type": "code",
   "execution_count": null,
   "metadata": {},
   "outputs": [],
   "source": []
  },
  {
   "cell_type": "code",
   "execution_count": null,
   "metadata": {},
   "outputs": [],
   "source": [
    "y_hat_test = []\n",
    "for i in range(int(X_test.shape[0]/1000)):\n",
    "    y_hat_test.append(model.forward(X_test[i*1000:(i+1)*1000].to(device)).detach().cpu().numpy())\n",
    "y_hat_test = np.array(y_hat_test).reshape([-1,6])"
   ]
  },
  {
   "cell_type": "code",
   "execution_count": null,
   "metadata": {},
   "outputs": [],
   "source": [
    "y_hat_train = []\n",
    "for i in range(int(X_train.shape[0]/1000)):\n",
    "    y_hat_train.append(model.forward(X_train[i*1000:(i+1)*1000].to(device)).detach().cpu().numpy())\n",
    "y_hat_train = np.array(y_hat_train).reshape([-1,6])"
   ]
  },
  {
   "cell_type": "code",
   "execution_count": null,
   "metadata": {},
   "outputs": [],
   "source": [
    "num = Y_train.shape[1]\n",
    "\n",
    "plt.figure(figsize=(250,16*num))\n",
    "for i in range(num):\n",
    "    plt.subplot(2*num,1,2*(i+1)-1)\n",
    "    plt.plot(Y_train.cpu()[:,i], 'r', linewidth = 2)\n",
    "    plt.plot(y_hat_train[:,i], 'k', linewidth = 2)\n",
    "    plt.title('Train data - Output number : '+str(i+1))\n",
    "    plt.grid('on')\n",
    "    plt.legend(['Real Trajectory', 'Predicted Trajectory'])\n",
    "    plt.subplot(2*num,1,2*(i+1))\n",
    "    plt.plot(Y_test.cpu()[:,i], 'r', linewidth = 2)\n",
    "    plt.plot(y_hat_test[:,i], 'k', linewidth = 2)\n",
    "    plt.title('Test data - Output number : '+str(i+1))\n",
    "    plt.legend(['Real Trajectory', 'Predicted Trajectory'])\n",
    "plt.savefig('GT2RBFnn_results_big.png', dpi=400)"
   ]
  },
  {
   "cell_type": "code",
   "execution_count": null,
   "metadata": {},
   "outputs": [],
   "source": [
    "data = {'train':{'y':Y_train[0:y_hat_train.shape[0]].detach().cpu().numpy(),'y_hat':y_hat_train},'test':{'y':Y_test.detach().cpu().numpy(),'y_hat':y_hat_test}}"
   ]
  },
  {
   "cell_type": "code",
   "execution_count": null,
   "metadata": {},
   "outputs": [],
   "source": [
    "# np.save('data12.npy',data)"
   ]
  },
  {
   "cell_type": "code",
   "execution_count": null,
   "metadata": {},
   "outputs": [],
   "source": [
    "for i in range(X_train.shape[1]):\n",
    "    ss= (X_train[0:100,i] - Y_train[0:100,0]).sum()\n",
    "    if ss==0:\n",
    "        print(i)"
   ]
  },
  {
   "cell_type": "code",
   "execution_count": null,
   "metadata": {},
   "outputs": [],
   "source": [
    "model.Train(X_train, Y_train, 90, 128*8, init_flag = False)#, 100"
   ]
  },
  {
   "cell_type": "code",
   "execution_count": null,
   "metadata": {},
   "outputs": [],
   "source": [
    "# model.Train(X_train, Y_train, 1000, 128*8, init_flag = False)"
   ]
  },
  {
   "cell_type": "code",
   "execution_count": null,
   "metadata": {},
   "outputs": [],
   "source": [
    "# y_hat = model.forward(X_train)\n",
    "# torch.save(y_hat, 'sss.pth')"
   ]
  },
  {
   "cell_type": "code",
   "execution_count": null,
   "metadata": {},
   "outputs": [],
   "source": [
    "# torch.save(model,'D:\\Code\\KiaIsComing\\MasterPr\\GT2RBFnn_log\\model.pth')"
   ]
  },
  {
   "cell_type": "code",
   "execution_count": null,
   "metadata": {},
   "outputs": [],
   "source": [
    "# model2 = torch.load('D:\\Code\\KiaIsComing\\MasterPr\\GT2RBFnn_log/model.pth')"
   ]
  },
  {
   "cell_type": "code",
   "execution_count": null,
   "metadata": {},
   "outputs": [],
   "source": [
    "# y_hat = model.forward(X_train[0:1000])"
   ]
  }
 ],
 "metadata": {
  "kernelspec": {
   "display_name": "py310",
   "language": "python",
   "name": "python3"
  },
  "language_info": {
   "codemirror_mode": {
    "name": "ipython",
    "version": 3
   },
   "file_extension": ".py",
   "mimetype": "text/x-python",
   "name": "python",
   "nbconvert_exporter": "python",
   "pygments_lexer": "ipython3",
   "version": "3.10.13"
  }
 },
 "nbformat": 4,
 "nbformat_minor": 2
}
